{
 "cells": [
  {
   "cell_type": "markdown",
   "metadata": {},
   "source": [
    "# HW3 - Q3 [35 pts]"
   ]
  },
  {
   "cell_type": "markdown",
   "metadata": {},
   "source": [
    "## Important Notices\n",
    "\n",
    "<div class=\"alert alert-block alert-danger\">\n",
    "    WARNING: Do <strong>NOT</strong> add any cells to this Jupyter Notebook, because that will crash the autograder.\n",
    "</div>\n",
    "\n",
    "<div class=\"alert alert-block alert-danger\">\n",
    "    WARNING: Do <strong>NOT</strong> implement any additional libraries into this workbook.\n",
    "</div>\n",
    "\n",
    "All instructions, code comments, etc. in this notebook **are part of the assignment instructions**. That is, if there is instructions about completing a task in this notebook, that task is not optional.  \n",
    "\n",
    "<div class=\"alert alert-block alert-info\">\n",
    "    You <strong>must</strong> implement the following functions in this notebook to receive credit.\n",
    "</div>\n",
    "\n",
    "`user()`\n",
    "\n",
    "`bucket()`\n",
    "\n",
    "`long_trips()`\n",
    "\n",
    "`manhattan_trips()`\n",
    "\n",
    "`weighted_profit()`\n",
    "\n",
    "`final_output()`\n",
    "\n",
    "Each method will be auto-graded using different sets of parameters or data, to ensure that values are not hard-coded.  You may assume we will only use your code to work with data from the NYC-TLC dataset during auto-grading.\n",
    "\n",
    "<div class=\"alert alert-block alert-danger\">\n",
    "    WARNING: Do <strong>NOT</strong> remove or modify the following utility functions:\n",
    "</div>\n",
    "\n",
    "`load_data()`\n",
    "\n",
    "`main()`"
   ]
  },
  {
   "cell_type": "markdown",
   "metadata": {},
   "source": [
    "<div class=\"alert alert-block alert-info\">\n",
    "    Do <strong>not</strong> change the below cell. Run it to initialize your PySpark instance. If you don't get any output, make sure your Notebook's Kernel is set to \"PySpark\" in the top right corner.\n",
    "</div>"
   ]
  },
  {
   "cell_type": "code",
   "execution_count": 1,
   "metadata": {},
   "outputs": [
    {
     "data": {
      "application/vnd.jupyter.widget-view+json": {
       "model_id": "ab8871e6e9e64d0ebc2e6d1b8e415fda",
       "version_major": 2,
       "version_minor": 0
      },
      "text/plain": [
       "VBox()"
      ]
     },
     "metadata": {},
     "output_type": "display_data"
    },
    {
     "name": "stdout",
     "output_type": "stream",
     "text": [
      "Starting Spark application\n"
     ]
    },
    {
     "data": {
      "text/html": [
       "<table>\n",
       "<tr><th>ID</th><th>YARN Application ID</th><th>Kind</th><th>State</th><th>Spark UI</th><th>Driver log</th><th>Current session?</th></tr><tr><td>0</td><td>application_1616461074990_0001</td><td>pyspark</td><td>idle</td><td><a target=\"_blank\" href=\"http://ip-172-31-37-59.ec2.internal:20888/proxy/application_1616461074990_0001/\" class=\"emr-proxy-link\" emr-resource=\"j-DJQD7KDB0PR7\n",
       "\" application-id=\"application_1616461074990_0001\">Link</a></td><td><a target=\"_blank\" href=\"http://ip-172-31-43-201.ec2.internal:8042/node/containerlogs/container_1616461074990_0001_01_000001/livy\" >Link</a></td><td>✔</td></tr></table>"
      ],
      "text/plain": [
       "<IPython.core.display.HTML object>"
      ]
     },
     "metadata": {},
     "output_type": "display_data"
    },
    {
     "data": {
      "application/vnd.jupyter.widget-view+json": {
       "model_id": "",
       "version_major": 2,
       "version_minor": 0
      },
      "text/plain": [
       "FloatProgress(value=0.0, bar_style='info', description='Progress:', layout=Layout(height='25px', width='50%'),…"
      ]
     },
     "metadata": {},
     "output_type": "display_data"
    },
    {
     "name": "stdout",
     "output_type": "stream",
     "text": [
      "SparkSession available as 'spark'.\n"
     ]
    },
    {
     "data": {
      "application/vnd.jupyter.widget-view+json": {
       "model_id": "",
       "version_major": 2,
       "version_minor": 0
      },
      "text/plain": [
       "FloatProgress(value=0.0, bar_style='info', description='Progress:', layout=Layout(height='25px', width='50%'),…"
      ]
     },
     "metadata": {},
     "output_type": "display_data"
    },
    {
     "name": "stdout",
     "output_type": "stream",
     "text": [
      "<SparkContext master=yarn appName=livy-session-0>"
     ]
    }
   ],
   "source": [
    "sc"
   ]
  },
  {
   "cell_type": "markdown",
   "metadata": {},
   "source": [
    "<div class=\"alert alert-block alert-danger\">\n",
    "    WARNING: Do <strong>NOT</strong> remodify the below cell. It contains the function for loading data and all imports, and the function for running your code.\n",
    "</div>"
   ]
  },
  {
   "cell_type": "code",
   "execution_count": 2,
   "metadata": {},
   "outputs": [
    {
     "data": {
      "application/vnd.jupyter.widget-view+json": {
       "model_id": "2583928ab50e4ffe9f8de8bdfeef29fb",
       "version_major": 2,
       "version_minor": 0
      },
      "text/plain": [
       "VBox()"
      ]
     },
     "metadata": {},
     "output_type": "display_data"
    },
    {
     "data": {
      "application/vnd.jupyter.widget-view+json": {
       "model_id": "",
       "version_major": 2,
       "version_minor": 0
      },
      "text/plain": [
       "FloatProgress(value=0.0, bar_style='info', description='Progress:', layout=Layout(height='25px', width='50%'),…"
      ]
     },
     "metadata": {},
     "output_type": "display_data"
    }
   ],
   "source": [
    "#### DO NOT CHANGE ANYTHING IN THIS CELL ####\n",
    "\n",
    "from pyspark.sql.functions import col\n",
    "from pyspark.sql import *\n",
    "\n",
    "def load_data(size='small'):\n",
    "    # Loads the data for this question. Do not change this function.\n",
    "    # This function should only be called with the parameter 'small' or 'large'\n",
    "    \n",
    "    if size != 'small' and size != 'large':\n",
    "        print(\"Invalid size parameter provided. Use only 'small' or 'large'.\")\n",
    "        return\n",
    "    \n",
    "    input_bucket = \"s3://cse6242-spring2021\"\n",
    "    \n",
    "    # Load Trip Data\n",
    "    trip_path = '/'+size+'/yellow_tripdata*'\n",
    "    trips = spark.read.csv(input_bucket + trip_path, header=True, inferSchema=True)\n",
    "    print(\"Trip Count: \",trips.count()) # Prints # of trips (# of records, as each record is one trip)\n",
    "    \n",
    "    # Load Lookup Data\n",
    "    lookup_path = '/'+size+'/taxi*'\n",
    "    lookup = spark.read.csv(input_bucket + lookup_path, header=True, inferSchema=True)\n",
    "    \n",
    "    return trips, lookup\n",
    "\n",
    "def main(size, bucket):\n",
    "    # Runs your functions implemented above.\n",
    "    \n",
    "    print(user())\n",
    "    trips, lookup = load_data(size=size)\n",
    "    trips = long_trips(trips)\n",
    "    mtrips = manhattan_trips(trips, lookup)\n",
    "    wp = weighted_profit(trips, mtrips)\n",
    "    final = final_output(wp,lookup)\n",
    "    \n",
    "    # Outputs the results for you to visually see\n",
    "    final.show()\n",
    "    \n",
    "    # Writes out as a CSV to your bucket.\n",
    "    final.write.csv(bucket)"
   ]
  },
  {
   "cell_type": "markdown",
   "metadata": {},
   "source": [
    "# Implement the below functions for this assignment:\n",
    "<div class=\"alert alert-block alert-danger\">\n",
    "    WARNING: Do <strong>NOT</strong> change any function inputs or outputs, and ensure that the dataframes your code returns align with the schema definitions commented in each function\n",
    "</div>"
   ]
  },
  {
   "cell_type": "markdown",
   "metadata": {},
   "source": [
    "## 3a. [1 pt] Update the `user()` function\n",
    "This function should return your GT username, eg: gburdell3"
   ]
  },
  {
   "cell_type": "code",
   "execution_count": 3,
   "metadata": {},
   "outputs": [
    {
     "data": {
      "application/vnd.jupyter.widget-view+json": {
       "model_id": "05a8965a3fea4635b0d232bdafd18a95",
       "version_major": 2,
       "version_minor": 0
      },
      "text/plain": [
       "VBox()"
      ]
     },
     "metadata": {},
     "output_type": "display_data"
    },
    {
     "data": {
      "application/vnd.jupyter.widget-view+json": {
       "model_id": "",
       "version_major": 2,
       "version_minor": 0
      },
      "text/plain": [
       "FloatProgress(value=0.0, bar_style='info', description='Progress:', layout=Layout(height='25px', width='50%'),…"
      ]
     },
     "metadata": {},
     "output_type": "display_data"
    }
   ],
   "source": [
    "def user():\n",
    "    # Returns a string consisting of your GT username.\n",
    "    return 'yraparia3'"
   ]
  },
  {
   "cell_type": "markdown",
   "metadata": {},
   "source": [
    "## 3b. [2 pts] Update the `long_trips()` function\n",
    "This function filters trips to keep only trips greater than or equal to 2 miles."
   ]
  },
  {
   "cell_type": "code",
   "execution_count": 4,
   "metadata": {},
   "outputs": [
    {
     "data": {
      "application/vnd.jupyter.widget-view+json": {
       "model_id": "38439b7da5d5416b92ad7d42d912cf16",
       "version_major": 2,
       "version_minor": 0
      },
      "text/plain": [
       "VBox()"
      ]
     },
     "metadata": {},
     "output_type": "display_data"
    },
    {
     "data": {
      "application/vnd.jupyter.widget-view+json": {
       "model_id": "",
       "version_major": 2,
       "version_minor": 0
      },
      "text/plain": [
       "FloatProgress(value=0.0, bar_style='info', description='Progress:', layout=Layout(height='25px', width='50%'),…"
      ]
     },
     "metadata": {},
     "output_type": "display_data"
    }
   ],
   "source": [
    "def long_trips(trips):\n",
    "    # Returns a Dataframe with Schema the same as :trips:\n",
    "    trips =trips.filter(col(\"trip_distance\")>=2)\n",
    "    return trips"
   ]
  },
  {
   "cell_type": "markdown",
   "metadata": {},
   "source": [
    "## 3c. [6 pts] Update the `manhattan_trips()` function\n",
    "\n",
    "This function determines the top 20 locations with a `DOLocationID` in manhattan by passenger_count (pcount).\n",
    "\n",
    "Example output formatting:\n",
    "\n",
    "```\n",
    "+--------------+--------+\n",
    "| DOLocationID | pcount |\n",
    "+--------------+--------+\n",
    "|             5|      15|\n",
    "|            16|      12| \n",
    "+--------------+--------+\n",
    "```"
   ]
  },
  {
   "cell_type": "code",
   "execution_count": 5,
   "metadata": {},
   "outputs": [
    {
     "data": {
      "application/vnd.jupyter.widget-view+json": {
       "model_id": "31c90c3be680406c8b82be1906f8a134",
       "version_major": 2,
       "version_minor": 0
      },
      "text/plain": [
       "VBox()"
      ]
     },
     "metadata": {},
     "output_type": "display_data"
    },
    {
     "data": {
      "application/vnd.jupyter.widget-view+json": {
       "model_id": "",
       "version_major": 2,
       "version_minor": 0
      },
      "text/plain": [
       "FloatProgress(value=0.0, bar_style='info', description='Progress:', layout=Layout(height='25px', width='50%'),…"
      ]
     },
     "metadata": {},
     "output_type": "display_data"
    }
   ],
   "source": [
    "def manhattan_trips(trips, lookup):\n",
    "    # Returns a Dataframe with Schema: DOLocationID, pcount\n",
    "    #var df3=pyspark.emptyDataFrame;\n",
    "\n",
    "    df3=trips.join(lookup,trips.DOLocationID ==  lookup.LocationID,\"inner\")\n",
    "    df3=df3.withColumn(\"pcount\",col(\"passenger_count\").cast(\"int\"))\n",
    "    df3=df3.filter(col(\"Borough\")==\"Manhattan\")\n",
    "    df3=df3.groupBy(col(\"LocationID\")).sum(\"pcount\")\n",
    "    df3=df3.select(col(\"LocationID\").alias(\"DOLocationID\"),col(\"sum(pcount)\").alias(\"pcount\"))\n",
    "    df3=df3.orderBy(df3[\"pcount\"],ascending=False).limit(20)\n",
    "\n",
    "    return df3\n",
    "    \n"
   ]
  },
  {
   "cell_type": "markdown",
   "metadata": {},
   "source": [
    "## 3d. [6 pts] Update the `weighted_profit()` function\n",
    "This function should determine the average `total_amount`, the total count of trips, and the total count of trips ending in the top 20 destinations and return the `weighted_profit` as discussed in the homework document.\n",
    "\n",
    "Example output formatting:\n",
    "```\n",
    "+--------------+-------------------+\n",
    "| PULocationID |  weighted_profit  |\n",
    "+--------------+-------------------+\n",
    "|            18| 33.784444421924436| \n",
    "|            12| 21.124577637149223| \n",
    "+--------------+-------------------+\n",
    "```"
   ]
  },
  {
   "cell_type": "code",
   "execution_count": 6,
   "metadata": {},
   "outputs": [
    {
     "data": {
      "application/vnd.jupyter.widget-view+json": {
       "model_id": "62f0c09214894242b17bfd01ebb0e714",
       "version_major": 2,
       "version_minor": 0
      },
      "text/plain": [
       "VBox()"
      ]
     },
     "metadata": {},
     "output_type": "display_data"
    },
    {
     "data": {
      "application/vnd.jupyter.widget-view+json": {
       "model_id": "",
       "version_major": 2,
       "version_minor": 0
      },
      "text/plain": [
       "FloatProgress(value=0.0, bar_style='info', description='Progress:', layout=Layout(height='25px', width='50%'),…"
      ]
     },
     "metadata": {},
     "output_type": "display_data"
    }
   ],
   "source": [
    "def weighted_profit(trips, mtrips): \n",
    "    # Returns a Dataframe with Schema: PULocationID, weighted_profit\n",
    "    # Note: Use decimal datatype for weighted profit (NOTE: DON'T USE FLOAT)\n",
    "    # Our grader will be only be checking the first 8 characters for each value in the dataframe\n",
    "    trips=trips.withColumn(\"f_amount\",col(\"total_amount\").cast(\"double\"))\n",
    "    top_DO = mtrips.select(\"DOLocationID\").collect()\n",
    "    topDO = [row.DOLocationID for row in top_DO]\n",
    "\n",
    "\n",
    "    #df5=trips.filter(trips.DOLocationID.isin(topDO))\n",
    "    df5=trips.groupBy(col(\"PULocationID\"),col(\"DOLocationID\")).count().filter(trips.DOLocationID.isin(topDO))\n",
    "    df5=df5.groupBy(col(\"PULocationID\")).sum(\"count\")\n",
    "    df5=df5.select(col(\"PULocationID\"),col(\"sum(count)\").alias(\"countp\"))\n",
    "    df5=df5.select(col(\"PULocationID\").alias(\"POLocID\"),col(\"countp\"))\n",
    "\n",
    "    df10=trips.groupBy(col(\"PULocationID\")).avg(\"f_amount\")\n",
    "    df10=df10.select(col(\"PULocationID\"),col(\"avg(f_amount)\").alias(\"average total amount\"))\n",
    "    df11=trips.groupBy(col(\"PULocationID\")).count()\n",
    "    df11=df11.select(col(\"PULocationID\").alias(\"pid\"),col(\"count\").alias(\"count\"))\n",
    "    df4=df10.join(df11,df10.PULocationID==df11.pid,\"rightouter\")\n",
    "\n",
    "    df6=df4.join(df5,df4.PULocationID==df5.POLocID,\"leftouter\")\n",
    "    df6.na.fill(value=0,subset=[\"countp\"])\n",
    "    df6=df6.select(col(\"PULocationID\"),(col(\"countp\")/col(\"count\")*col(\"average total amount\")).cast(\"decimal(10,8)\").alias(\"weighted_profit\"))\n",
    "\n",
    "    return df6\n",
    "\n",
    "\n"
   ]
  },
  {
   "cell_type": "markdown",
   "metadata": {},
   "source": [
    "## 3e. [5 pts] Update the `final_output()` function\n",
    "This function will take the results of `weighted_profit`, links it to the `borough` and `zone` and returns the top 20 locations with the highest `weighted_profit`.\n",
    "\n",
    "Example output formatting:\n",
    "```\n",
    "+------------+---------+-------------------+\n",
    "|    Zone    | Borough |  weighted_profit  |\n",
    "+----------------------+-------------------+\n",
    "| JFK Airport|   Queens|  16.95897820117925|\n",
    "|     Jamaica|   Queens| 14.879835188762488|\n",
    "+------------+---------+-------------------+\n",
    "```"
   ]
  },
  {
   "cell_type": "code",
   "execution_count": 7,
   "metadata": {},
   "outputs": [
    {
     "data": {
      "application/vnd.jupyter.widget-view+json": {
       "model_id": "34183907b1524b4db7ee9840cbcdb09c",
       "version_major": 2,
       "version_minor": 0
      },
      "text/plain": [
       "VBox()"
      ]
     },
     "metadata": {},
     "output_type": "display_data"
    },
    {
     "data": {
      "application/vnd.jupyter.widget-view+json": {
       "model_id": "",
       "version_major": 2,
       "version_minor": 0
      },
      "text/plain": [
       "FloatProgress(value=0.0, bar_style='info', description='Progress:', layout=Layout(height='25px', width='50%'),…"
      ]
     },
     "metadata": {},
     "output_type": "display_data"
    }
   ],
   "source": [
    "\n",
    "def final_output(calc, lookup): \n",
    "    # Returns a Dataframe with Schema: Zone, Borough, weighted_profit\n",
    "    # Note: Use decimal datatype for weighted profit (NOTE: DON'T USE FLOAT)\n",
    "    # Our grader will be only be checking the first 8 characters for each value in the dataframe\n",
    "    dff = calc.join(lookup, lookup.LocationID==calc.PULocationID,\"inner\")\n",
    "    dff = dff.select(col(\"Zone\"),col(\"Borough\"),col(\"weighted_profit\"))\n",
    "    dff = dff.orderBy(dff[\"weighted_profit\"], ascending=False).limit(20)\n",
    "    return dff\n",
    "    "
   ]
  },
  {
   "cell_type": "markdown",
   "metadata": {},
   "source": [
    "<div class=\"alert alert-block alert-info\">\n",
    "    Test your code on the small dataset first, as the large dataset will take a significantly longer time to run\n",
    "</div>\n",
    "\n",
    "<div class=\"alert alert-block alert-danger\">\n",
    "    WARNING: Do <strong>NOT</strong> use the same bucket url for multiple runs of the `main()` function, as this will cause errors. Make sure to change the name of your output location every time. (ie: s3://cse6242-gburdell3/output-small2)\n",
    "</div>\n",
    "\n",
    "Update the below cell with the path to your bucket, then run the below cell to run your code to store the results in S3.\n",
    "\n",
    "When you have confirmed the results of the small dataset, run it again using the large dataset. Your output file will appear in a folder in your s3 bucket called YOUROUTPUT.csv as a csv file with a name something like part-0000-4d992f7a-0ad3-48f8-8c72-0022984e4b50-c000.csv. Download this file and rename it to q3_output.csv for submission. Do not make any other changes to the file. "
   ]
  },
  {
   "cell_type": "code",
   "execution_count": 9,
   "metadata": {},
   "outputs": [
    {
     "data": {
      "application/vnd.jupyter.widget-view+json": {
       "model_id": "66f572854e334504b31dbf4d35aff74e",
       "version_major": 2,
       "version_minor": 0
      },
      "text/plain": [
       "VBox()"
      ]
     },
     "metadata": {},
     "output_type": "display_data"
    },
    {
     "data": {
      "application/vnd.jupyter.widget-view+json": {
       "model_id": "",
       "version_major": 2,
       "version_minor": 0
      },
      "text/plain": [
       "FloatProgress(value=0.0, bar_style='info', description='Progress:', layout=Layout(height='25px', width='50%'),…"
      ]
     },
     "metadata": {},
     "output_type": "display_data"
    },
    {
     "name": "stdout",
     "output_type": "stream",
     "text": [
      "yraparia3\n",
      "Trip Count:  7667792\n",
      "+--------------------+-------------+---------------+\n",
      "|                Zone|      Borough|weighted_profit|\n",
      "+--------------------+-------------+---------------+\n",
      "|Arrochar/Fort Wad...|Staten Island|    31.78444444|\n",
      "|     Freshkills Park|Staten Island|    29.34250000|\n",
      "|       Port Richmond|Staten Island|    24.35777778|\n",
      "|Flushing Meadows-...|       Queens|    24.33013773|\n",
      "|        Baisley Park|       Queens|    23.62469433|\n",
      "|     Randalls Island|    Manhattan|    23.12457752|\n",
      "|       South Jamaica|       Queens|    22.17411494|\n",
      "|     Mariners Harbor|Staten Island|    21.78655693|\n",
      "|Saint George/New ...|Staten Island|    21.49189349|\n",
      "|       Arden Heights|Staten Island|    20.29625000|\n",
      "|        Astoria Park|       Queens|    19.96536000|\n",
      "|   LaGuardia Airport|       Queens|    17.92315395|\n",
      "|  Murray Hill-Queens|       Queens|    17.58545042|\n",
      "|         JFK Airport|       Queens|    16.95897820|\n",
      "|             Jamaica|       Queens|    14.87983519|\n",
      "|Governor's Island...|    Manhattan|    14.79625000|\n",
      "|        Country Club|        Bronx|    14.61319527|\n",
      "|Springfield Garde...|       Queens|    14.33717522|\n",
      "|             Maspeth|       Queens|    13.94043716|\n",
      "|Briarwood/Jamaica...|       Queens|    13.32786129|\n",
      "+--------------------+-------------+---------------+\n",
      "\n",
      "yraparia3\n",
      "Trip Count:  187203269\n",
      "+--------------------+-------------+---------------+\n",
      "|                Zone|      Borough|weighted_profit|\n",
      "+--------------------+-------------+---------------+\n",
      "|        Baisley Park|       Queens|    29.36045578|\n",
      "|Flushing Meadows-...|       Queens|    27.30484573|\n",
      "|       South Jamaica|       Queens|    26.29491624|\n",
      "|     Randalls Island|    Manhattan|    24.15098994|\n",
      "|        Astoria Park|       Queens|    21.70641711|\n",
      "|Briarwood/Jamaica...|       Queens|    19.94506463|\n",
      "|Springfield Garde...|       Queens|    19.46830929|\n",
      "|             Jamaica|       Queens|    19.28394300|\n",
      "|              Corona|       Queens|    18.22876925|\n",
      "|   LaGuardia Airport|       Queens|    18.18133881|\n",
      "|         Jamaica Bay|       Queens|    17.10052945|\n",
      "|             Maspeth|       Queens|    17.00545064|\n",
      "|Eltingville/Annad...|Staten Island|    16.83776476|\n",
      "|         JFK Airport|       Queens|    16.77772535|\n",
      "|        Battery Park|    Manhattan|    12.84978031|\n",
      "| Morningside Heights|    Manhattan|    12.45369803|\n",
      "|   Battery Park City|    Manhattan|    12.44884840|\n",
      "|Greenwich Village...|    Manhattan|    12.44694989|\n",
      "|       Rikers Island|        Bronx|    12.30630000|\n",
      "|  World Trade Center|    Manhattan|    12.29541192|\n",
      "+--------------------+-------------+---------------+"
     ]
    }
   ],
   "source": [
    "# update your bucket path\n",
    "bucket = 's3://cse6242-yraparia3/e-2VOSAVLWWLSP6RDG9VTL1ED40/q3_output_small'\n",
    "main('small', bucket)\n",
    "\n",
    "bucket = 's3://cse6242-yraparia3/e-2VOSAVLWWLSP6RDG9VTL1ED40/q3_output_large'\n",
    "main('large', bucket)"
   ]
  },
  {
   "cell_type": "markdown",
   "metadata": {},
   "source": [
    "#### Testing\n",
    "\n",
    "<div class=\"alert alert-block alert-info\">\n",
    "    You may use the below cell for any additional testing you need to do, however any code implemented below will not be run or used when grading\n",
    "</div>"
   ]
  },
  {
   "cell_type": "code",
   "execution_count": 12,
   "metadata": {},
   "outputs": [
    {
     "data": {
      "application/vnd.jupyter.widget-view+json": {
       "model_id": "ae2ef019da2b484a849d55c239bfc93c",
       "version_major": 2,
       "version_minor": 0
      },
      "text/plain": [
       "VBox()"
      ]
     },
     "metadata": {},
     "output_type": "display_data"
    },
    {
     "data": {
      "application/vnd.jupyter.widget-view+json": {
       "model_id": "",
       "version_major": 2,
       "version_minor": 0
      },
      "text/plain": [
       "FloatProgress(value=0.0, bar_style='info', description='Progress:', layout=Layout(height='25px', width='50%'),…"
      ]
     },
     "metadata": {},
     "output_type": "display_data"
    },
    {
     "name": "stdout",
     "output_type": "stream",
     "text": [
      "yraparia3\n",
      "Trip Count:  7667792\n",
      "+------------+---------------+\n",
      "|PULocationID|weighted_profit|\n",
      "+------------+---------------+\n",
      "|         148|     7.69740615|\n",
      "|         243|     7.93404251|\n",
      "|          65|     6.63069823|\n",
      "|         133|     2.91508945|\n",
      "|         126|     5.50219539|\n",
      "|          81|     4.00553633|\n",
      "|          76|     3.65623752|\n",
      "|         192|     3.40770858|\n",
      "|          12|    10.55403660|\n",
      "|         209|     9.29151592|\n",
      "|         122|     7.36253058|\n",
      "|         140|     8.28884629|\n",
      "|         177|     2.19967393|\n",
      "|           1|     4.24235102|\n",
      "|         206|    21.49189349|\n",
      "|           6|    31.78444444|\n",
      "|         205|     6.96914892|\n",
      "|           3|     5.46186343|\n",
      "|         142|     7.90567236|\n",
      "|         178|     4.46143008|\n",
      "|         250|     4.28319668|\n",
      "|         191|     5.22753284|\n",
      "|          92|     3.57543019|\n",
      "|          64|     0.88654956|\n",
      "|         112|     3.80907283|\n",
      "|         189|     3.87357477|\n",
      "|         207|    13.17240115|\n",
      "|          37|     2.30075390|\n",
      "|          61|     2.85015248|\n",
      "|         107|    10.67776941|\n",
      "+------------+---------------+\n",
      "only showing top 30 rows"
     ]
    }
   ],
   "source": [
    "print(user())\n",
    "bucket = 's3://cse6242-yraparia3/e-2VOSAVLWWLSP6RDG9VTL1ED40/q3_output'\n",
    "trips, lookup = load_data(size='small')\n",
    "trips = long_trips(trips)\n",
    "mtrips = manhattan_trips(trips, lookup)\n",
    "wp = weighted_profit(trips, mtrips)\n",
    "wp.show(30)\n",
    "#df6.show(30)\n",
    "    "
   ]
  },
  {
   "cell_type": "code",
   "execution_count": 13,
   "metadata": {},
   "outputs": [
    {
     "data": {
      "application/vnd.jupyter.widget-view+json": {
       "model_id": "82fdd0e47a2e4113a484e79bfd4a301e",
       "version_major": 2,
       "version_minor": 0
      },
      "text/plain": [
       "VBox()"
      ]
     },
     "metadata": {},
     "output_type": "display_data"
    },
    {
     "data": {
      "application/vnd.jupyter.widget-view+json": {
       "model_id": "",
       "version_major": 2,
       "version_minor": 0
      },
      "text/plain": [
       "FloatProgress(value=0.0, bar_style='info', description='Progress:', layout=Layout(height='25px', width='50%'),…"
      ]
     },
     "metadata": {},
     "output_type": "display_data"
    },
    {
     "name": "stdout",
     "output_type": "stream",
     "text": [
      "+--------------------+-------------+---------------+\n",
      "|                Zone|      Borough|weighted_profit|\n",
      "+--------------------+-------------+---------------+\n",
      "|Arrochar/Fort Wad...|Staten Island|    31.78444444|\n",
      "|     Freshkills Park|Staten Island|    29.34250000|\n",
      "|       Port Richmond|Staten Island|    24.35777778|\n",
      "|Flushing Meadows-...|       Queens|    24.33013773|\n",
      "|        Baisley Park|       Queens|    23.62469433|\n",
      "|     Randalls Island|    Manhattan|    23.12457752|\n",
      "|       South Jamaica|       Queens|    22.17411494|\n",
      "|     Mariners Harbor|Staten Island|    21.78655693|\n",
      "|Saint George/New ...|Staten Island|    21.49189349|\n",
      "|       Arden Heights|Staten Island|    20.29625000|\n",
      "|        Astoria Park|       Queens|    19.96536000|\n",
      "|   LaGuardia Airport|       Queens|    17.92315395|\n",
      "|  Murray Hill-Queens|       Queens|    17.58545042|\n",
      "|         JFK Airport|       Queens|    16.95897820|\n",
      "|             Jamaica|       Queens|    14.87983519|\n",
      "|Governor's Island...|    Manhattan|    14.79625000|\n",
      "|        Country Club|        Bronx|    14.61319527|\n",
      "|Springfield Garde...|       Queens|    14.33717522|\n",
      "|             Maspeth|       Queens|    13.94043716|\n",
      "|Briarwood/Jamaica...|       Queens|    13.32786129|\n",
      "+--------------------+-------------+---------------+"
     ]
    }
   ],
   "source": [
    "final = final_output(wp,lookup)\n",
    "\n",
    "# Outputs the results for you to visually see\n",
    "final.show()\n"
   ]
  },
  {
   "cell_type": "code",
   "execution_count": null,
   "metadata": {},
   "outputs": [],
   "source": []
  },
  {
   "cell_type": "code",
   "execution_count": null,
   "metadata": {},
   "outputs": [],
   "source": []
  }
 ],
 "metadata": {
  "kernelspec": {
   "display_name": "PySpark",
   "language": "",
   "name": "pysparkkernel"
  },
  "language_info": {
   "codemirror_mode": {
    "name": "python",
    "version": 3
   },
   "mimetype": "text/x-python",
   "name": "pyspark",
   "pygments_lexer": "python3"
  }
 },
 "nbformat": 4,
 "nbformat_minor": 4
}
